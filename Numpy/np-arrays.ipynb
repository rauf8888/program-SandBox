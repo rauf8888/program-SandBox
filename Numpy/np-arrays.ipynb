{
 "cells": [
  {
   "cell_type": "code",
   "execution_count": 56,
   "metadata": {},
   "outputs": [
    {
     "name": "stdout",
     "output_type": "stream",
     "text": [
      "Requirement already satisfied: numpy in c:\\users\\rauf\\appdata\\local\\programs\\python\\python39\\lib\\site-packages (1.21.1)\n",
      "Note: you may need to restart the kernel to use updated packages.\n"
     ]
    },
    {
     "name": "stderr",
     "output_type": "stream",
     "text": [
      "\n",
      "[notice] A new release of pip is available: 23.0.1 -> 24.0\n",
      "[notice] To update, run: python.exe -m pip install --upgrade pip\n"
     ]
    }
   ],
   "source": [
    "pip install numpy"
   ]
  },
  {
   "cell_type": "code",
   "execution_count": 57,
   "metadata": {},
   "outputs": [
    {
     "name": "stdout",
     "output_type": "stream",
     "text": [
      "[1 2 3 4 5]\n",
      "<class 'numpy.ndarray'>\n",
      "5\n",
      "\n",
      "\n",
      "[0. 0. 0.]\n",
      "[0. 0. 0. 0. 0. 0. 0. 0. 0. 0.]\n"
     ]
    }
   ],
   "source": [
    "import numpy as np\n",
    "\n",
    "# printing user defined array and the type,size of array \n",
    "arr = np.array([1,2,3,4,5])\n",
    "print(arr)\n",
    "print(type(arr))\n",
    "print(len(arr))\n",
    "print('\\n')\n",
    "\n",
    "# printing float values in an numpy array\n",
    "a = np.zeros(3)\n",
    "print(a)\n",
    "b = np.zeros(10)\n",
    "print(b)"
   ]
  },
  {
   "cell_type": "code",
   "execution_count": 65,
   "metadata": {},
   "outputs": [
    {
     "name": "stdout",
     "output_type": "stream",
     "text": [
      "[1 2 3 4]\n",
      "[[10 20 30]\n",
      " [40 50 60]]\n",
      "[[[1 2 3]\n",
      "  [4 5 6]]\n",
      "\n",
      " [[1 2 3]\n",
      "  [4 5 6]]]\n",
      "\n",
      "\n",
      "1\n",
      "2\n",
      "3\n",
      "\n",
      "\n",
      "3\n",
      "30\n",
      "3\n",
      "\n",
      "\n",
      "5\n",
      "30\n"
     ]
    }
   ],
   "source": [
    "# different dimensions of an array\n",
    "# single dimensional array\n",
    "a = np.array([1,2,3,4])\n",
    "print(a)\n",
    "\n",
    "# two dimensional array\n",
    "b = np.array([[10,20,30],[40,50,60]])\n",
    "print(b)\n",
    "\n",
    "# three dimensional array\n",
    "c = np.array([[[1, 2, 3], [4, 5, 6]], [[1, 2, 3], [4, 5, 6]]])\n",
    "print(c)\n",
    "print('\\n')\n",
    "\n",
    "print(a.ndim)\n",
    "print(b.ndim)\n",
    "print(c.ndim)\n",
    "print('\\n')\n",
    "\n",
    "# Indexing through the array created\n",
    "print(a[2])\n",
    "print(b[0][2])\n",
    "print(c[1][0][2])\n",
    "\n",
    "print('\\n')\n",
    "print(c[0,1,1])\n",
    "print(b[0,-1])\n"
   ]
  },
  {
   "cell_type": "code",
   "execution_count": 59,
   "metadata": {},
   "outputs": [
    {
     "name": "stdout",
     "output_type": "stream",
     "text": [
      "[1 2 3 4 5]\n",
      "[3 4]\n",
      "[1 3 5]\n",
      "\n",
      "\n",
      "[40  2  3  4  5]\n",
      "[ 1  2 60  4  5]\n",
      "\n",
      "\n",
      "(6,)\n",
      "[[1 2 3]\n",
      " [4 5 6]]\n",
      "2\n",
      "\n",
      "\n",
      "[1 2 3 4 5 6]\n"
     ]
    }
   ],
   "source": [
    "# Slicing the numpy array\n",
    "print(arr[0:5])\n",
    "print(arr[2:4])\n",
    "print(arr[0::2])\n",
    "print('\\n')\n",
    "\n",
    "# copy and view the numpy array \n",
    "arr = np.array([1,2,3,4,5])\n",
    "x = arr.copy()\n",
    "x[0] = 40\n",
    "print(x)\n",
    "arr = np.array([1,2,3,4,5])\n",
    "y = arr.view()\n",
    "y[2] = 60\n",
    "print(y)\n",
    "arr = np.array([1,2,3,4,5,6])\n",
    "\n",
    "print('\\n')\n",
    "\n",
    "# printing shape of the array\n",
    "print(arr.shape)\n",
    "\n",
    "# reshaping the array\n",
    "newarr = arr.reshape(2,3)\n",
    "print(newarr)\n",
    "print(newarr.ndim)\n",
    "\n",
    "print('\\n')\n",
    "print(arr.reshape(2,3).base)"
   ]
  },
  {
   "cell_type": "code",
   "execution_count": 63,
   "metadata": {},
   "outputs": [
    {
     "name": "stdout",
     "output_type": "stream",
     "text": [
      "1\n",
      "2\n",
      "3\n",
      "4\n",
      "\n",
      "10\n",
      "20\n",
      "30\n",
      "40\n",
      "50\n",
      "60\n",
      "\n",
      "\n",
      "\n",
      "10\n",
      "20\n",
      "30\n",
      "40\n",
      "50\n",
      "60\n"
     ]
    }
   ],
   "source": [
    "# Iterating through the arrays\n",
    "# iterating through 1d array\n",
    "for i in a:\n",
    "    print(i)\n",
    "\n",
    "print()\n",
    "\n",
    "# iterating through 2d array\n",
    "for i in b:\n",
    "    for j in i:\n",
    "        print(j)\n",
    "print(\"\\n\\n\")\n",
    "# iterating through nditer function\n",
    "for i in np.nditer(b):\n",
    "    print(i)"
   ]
  },
  {
   "cell_type": "code",
   "execution_count": 75,
   "metadata": {},
   "outputs": [
    {
     "name": "stdout",
     "output_type": "stream",
     "text": [
      "[ 51  52  53  54 100 101 102 103]\n",
      "[array([51, 52, 53]), array([ 54, 100, 101]), array([102, 103])]\n"
     ]
    }
   ],
   "source": [
    "arr2 = np.array([51,52,53,54])\n",
    "arr3 = np.array([100,101,102,103])\n",
    "\n",
    "arr5 = np.concatenate((arr2,arr3))\n",
    "print(arr5)\n",
    "\n",
    "arr6 = np.array_split(arr5,3)\n",
    "print(arr6)"
   ]
  }
 ],
 "metadata": {
  "kernelspec": {
   "display_name": "Python 3",
   "language": "python",
   "name": "python3"
  },
  "language_info": {
   "codemirror_mode": {
    "name": "ipython",
    "version": 3
   },
   "file_extension": ".py",
   "mimetype": "text/x-python",
   "name": "python",
   "nbconvert_exporter": "python",
   "pygments_lexer": "ipython3",
   "version": "3.9.13"
  }
 },
 "nbformat": 4,
 "nbformat_minor": 2
}
